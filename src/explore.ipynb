{
    "cells": [
        {
            "cell_type": "markdown",
            "metadata": {},
            "source": [
                "# Explore here"
            ]
        },
        {
            "cell_type": "code",
            "execution_count": 13,
            "metadata": {},
            "outputs": [
                {
                    "ename": "ModuleNotFoundError",
                    "evalue": "No module named 'pandas'",
                    "output_type": "error",
                    "traceback": [
                        "\u001b[0;31m---------------------------------------------------------------------------\u001b[0m",
                        "\u001b[0;31mModuleNotFoundError\u001b[0m                       Traceback (most recent call last)",
                        "Cell \u001b[0;32mIn[13], line 1\u001b[0m\n\u001b[0;32m----> 1\u001b[0m \u001b[38;5;28;01mimport\u001b[39;00m \u001b[38;5;21;01mpandas\u001b[39;00m \u001b[38;5;28;01mas\u001b[39;00m \u001b[38;5;21;01mpd\u001b[39;00m\n\u001b[1;32m      2\u001b[0m \u001b[38;5;66;03m# Your code here\u001b[39;00m\n\u001b[1;32m      4\u001b[0m df \u001b[38;5;241m=\u001b[39m pd\u001b[38;5;241m.\u001b[39mread_csv(\u001b[38;5;124m'\u001b[39m\u001b[38;5;124mhttps://raw.githubusercontent.com/4GeeksAcademy/data-preprocessing-project-tutorial/main/AB_NYC_2019.csv\u001b[39m\u001b[38;5;124m'\u001b[39m)\n",
                        "\u001b[0;31mModuleNotFoundError\u001b[0m: No module named 'pandas'"
                    ]
                }
            ],
            "source": [
                "import pandas as pd\n",
                "# Your code here\n",
                "\n",
                "df = pd.read_csv('https://raw.githubusercontent.com/4GeeksAcademy/data-preprocessing-project-tutorial/main/AB_NYC_2019.csv')\n",
                "df.head()"
            ]
        },
        {
            "cell_type": "code",
            "execution_count": 3,
            "metadata": {},
            "outputs": [
                {
                    "ename": "NameError",
                    "evalue": "name 'df' is not defined",
                    "output_type": "error",
                    "traceback": [
                        "\u001b[0;31m---------------------------------------------------------------------------\u001b[0m",
                        "\u001b[0;31mNameError\u001b[0m                                 Traceback (most recent call last)",
                        "Cell \u001b[0;32mIn[3], line 1\u001b[0m\n\u001b[0;32m----> 1\u001b[0m \u001b[43mdf\u001b[49m\u001b[38;5;241m.\u001b[39mto_csv(\u001b[38;5;124m'\u001b[39m\u001b[38;5;124m../data/raw\u001b[39m\u001b[38;5;124m'\u001b[39m, index\u001b[38;5;241m=\u001b[39m\u001b[38;5;28;01mFalse\u001b[39;00m) \u001b[38;5;66;03m#Guardado de datos\u001b[39;00m\n",
                        "\u001b[0;31mNameError\u001b[0m: name 'df' is not defined"
                    ]
                }
            ],
            "source": [
                "df.to_csv('../data/raw', index=False) #Guardado de datos"
            ]
        },
        {
            "cell_type": "code",
            "execution_count": null,
            "metadata": {},
            "outputs": [],
            "source": [
                "df.shape #Explorar datos, ver forma\n",
                "df.info"
            ]
        },
        {
            "cell_type": "code",
            "execution_count": null,
            "metadata": {},
            "outputs": [],
            "source": [
                "print(df['name'].duplicated().sum()) #Revision de duplicados por columna\n",
                "print(df['host_id'].duplicated().sum()) #con cada columna"
            ]
        },
        {
            "cell_type": "code",
            "execution_count": null,
            "metadata": {},
            "outputs": [],
            "source": [
                "df.drop(['id','name','host_id','host_name','last_review','reviews_per_month'],axis=1,inplace=True) #Eliminar columnas con datos irrelevantes\n",
                "df.head()"
            ]
        },
        {
            "cell_type": "code",
            "execution_count": 10,
            "metadata": {},
            "outputs": [
                {
                    "ename": "ModuleNotFoundError",
                    "evalue": "No module named 'matplotlib'",
                    "output_type": "error",
                    "traceback": [
                        "\u001b[0;31m---------------------------------------------------------------------------\u001b[0m",
                        "\u001b[0;31mModuleNotFoundError\u001b[0m                       Traceback (most recent call last)",
                        "Cell \u001b[0;32mIn[10], line 1\u001b[0m\n\u001b[0;32m----> 1\u001b[0m \u001b[38;5;28;01mimport\u001b[39;00m \u001b[38;5;21;01mmatplotlib\u001b[39;00m\u001b[38;5;21;01m.\u001b[39;00m\u001b[38;5;21;01mpyplot\u001b[39;00m \u001b[38;5;28;01mas\u001b[39;00m \u001b[38;5;21;01mplt\u001b[39;00m\n\u001b[1;32m      2\u001b[0m \u001b[38;5;28;01mimport\u001b[39;00m \u001b[38;5;21;01mseaborn\u001b[39;00m \u001b[38;5;28;01mas\u001b[39;00m \u001b[38;5;21;01msns\u001b[39;00m\n",
                        "\u001b[0;31mModuleNotFoundError\u001b[0m: No module named 'matplotlib'"
                    ]
                }
            ],
            "source": [
                "import matplotlib.pyplot as plt\n",
                "import seaborn as sns\n",
                "#Graficar variables categoricas\n",
                "fig,axis = plt.subplot(2,2,figsize=(10,8)) #Graficar variables segun cantidad de variables\n",
                "\n",
                "sns.histplot(ax=axis[0,0],data=df,x='neighbourhood_group').set_xticks([]) #set_xticks([]) elimina las etiquetas del eje x\n",
                "sns.histplot(ax=axis[0,1],data=df,x='neighbourhood')set_xticks([])\n",
                "sns.histplot(ax=axis[1,0],data=df,x='room_type')set_xticks([])\n",
                "sns.histplot(ax=axis[1,1],data=df,x='availability_365')set_xticks([])\n",
                "\n",
                "\n"
            ]
        },
        {
            "cell_type": "code",
            "execution_count": null,
            "metadata": {},
            "outputs": [],
            "source": [
                "fig,axis = plt.subplots(4,2,figsize=(10,10),gridspec_kw={'height_ratios':[6,1,6,1]})\n",
                "#Graficar variables numericas\n",
                "sns.histplot(ax=axis[0,0],data=df,x='price') #Histograma\n",
                "sns.boxplot(ax=axis[1,0],data=df,x='price')  #Caja de bigote\n",
                "\n",
                "sns.histplot(ax=axis[0,1],data=df,x='minimiun_nights')\n",
                "sns.boxplot(ax=axis[1,1],data=df,x='minimiun_nights')\n",
                "\n",
                "sns.histplot(ax=axis[2,0],data=df,x='number_of_reviews')\n",
                "sns.boxplot(ax=axis[3,0],data=df,x='number_of_reviews')\n",
                "\n",
                "sns.histplot(ax=axis[2,1],data=df,x='calculated_host_listings_count')\n",
                "sns.boxplot(ax=axis[3,1],data=df,x='calculated_host_listings_count')\n",
                "\n",
                "plt.show()"
            ]
        },
        {
            "cell_type": "code",
            "execution_count": null,
            "metadata": {},
            "outputs": [],
            "source": [
                "#Analisis multivariante: Numerico-Numerico\n",
                "# Variable objetivo: precio\n",
                "fig,axis = plt.subplots(2,3,figsize=(7,10))\n",
                "\n",
                "sns.regplot(ax=[0,0],data=df,x='minimiun_night',y='price')\n",
                "sns.heatmap(df[['minimiun_nights','price']].corr(),fmt='.2f',ax=axis[1,0],cbar=False,annot=True)\n",
                "\n",
                "sns.regplot(ax=[0,0],data=df,x='number_of_reviews',y='price')\n",
                "sns.heatmap(df[['number_of_reviews','price']].corr(),fmt='.2f',ax=axis[1,0],cbar=False,annot=True)\n",
                "\n",
                "sns.regplot(ax=[0,0],data=df,x='calculated_host_listings_count',y='price')\n",
                "sns.heatmap(df[['calculated_host_listings_count','price']].corr(),fmt='.2f',ax=axis[1,0],cbar=False,annot=True)"
            ]
        }
    ],
    "metadata": {
        "kernelspec": {
            "display_name": "Python 3.8.13 64-bit ('3.8.13')",
            "language": "python",
            "name": "python3"
        },
        "language_info": {
            "codemirror_mode": {
                "name": "ipython",
                "version": 3
            },
            "file_extension": ".py",
            "mimetype": "text/x-python",
            "name": "python",
            "nbconvert_exporter": "python",
            "pygments_lexer": "ipython3",
            "version": "3.10.12"
        },
        "orig_nbformat": 4,
        "vscode": {
            "interpreter": {
                "hash": "110cc1dee26208153f2972f08a2ad52b6a56238dc66d48e87fb757ef2996db56"
            }
        }
    },
    "nbformat": 4,
    "nbformat_minor": 2
}
